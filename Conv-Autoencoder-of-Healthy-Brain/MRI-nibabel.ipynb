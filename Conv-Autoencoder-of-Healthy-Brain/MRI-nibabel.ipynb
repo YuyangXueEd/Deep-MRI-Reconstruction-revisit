{
 "cells": [
  {
   "cell_type": "markdown",
   "metadata": {
    "collapsed": true,
    "pycharm": {
     "name": "#%% md\n"
    }
   },
   "source": [
    "# MRI nibabel on IXI brain T1-weighted Dataset\n",
    "\n",
    "IXI dataset has a total of 584 volumes. The 3D representations have 3 dimensions, height, width, and depth. `NIfTI` format images and `Nibabel` library will be introduced."
   ]
  },
  {
   "cell_type": "code",
   "execution_count": 15,
   "outputs": [],
   "source": [
    "import nibabel as nib\n",
    "from glob import glob\n",
    "import numpy as np\n",
    "import matplotlib.pyplot as plt\n",
    "\n",
    "import matplotlib.animation as animation\n",
    "from IPython.display import HTML"
   ],
   "metadata": {
    "collapsed": false,
    "pycharm": {
     "name": "#%%\n"
    }
   }
  },
  {
   "cell_type": "markdown",
   "source": [
    "## List all the files from IXI T1 dataset"
   ],
   "metadata": {
    "collapsed": false,
    "pycharm": {
     "name": "#%% md\n"
    }
   }
  },
  {
   "cell_type": "code",
   "execution_count": 16,
   "outputs": [
    {
     "data": {
      "text/plain": "(581, '../../../Dataset/IXI_MRI_Dataset/IXI-T1_2\\\\IXI002-Guys-0828-T1.nii.gz')"
     },
     "execution_count": 16,
     "metadata": {},
     "output_type": "execute_result"
    }
   ],
   "source": [
    "files = glob('../../../Dataset/IXI_MRI_Dataset/IXI-T1_2/*.gz')\n",
    "len(files), files[0]"
   ],
   "metadata": {
    "collapsed": false,
    "pycharm": {
     "name": "#%%\n"
    }
   }
  },
  {
   "cell_type": "markdown",
   "source": [
    "## Load one example volume"
   ],
   "metadata": {
    "collapsed": false,
    "pycharm": {
     "name": "#%% md\n"
    }
   }
  },
  {
   "cell_type": "code",
   "execution_count": 17,
   "outputs": [
    {
     "data": {
      "text/plain": "nibabel.nifti1.Nifti1Image"
     },
     "execution_count": 17,
     "metadata": {},
     "output_type": "execute_result"
    }
   ],
   "source": [
    "vol = nib.load(files[0])\n",
    "type(vol)"
   ],
   "metadata": {
    "collapsed": false,
    "pycharm": {
     "name": "#%%\n"
    }
   }
  },
  {
   "cell_type": "code",
   "execution_count": 18,
   "outputs": [
    {
     "name": "stdout",
     "output_type": "stream",
     "text": [
      "<class 'nibabel.nifti1.Nifti1Header'> object, endian='<'\n",
      "sizeof_hdr      : 348\n",
      "data_type       : b''\n",
      "db_name         : b''\n",
      "extents         : 0\n",
      "session_error   : 0\n",
      "regular         : b'r'\n",
      "dim_info        : 0\n",
      "dim             : [  3 256 256 150   1   1   1   1]\n",
      "intent_p1       : 0.0\n",
      "intent_p2       : 0.0\n",
      "intent_p3       : 0.0\n",
      "intent_code     : none\n",
      "datatype        : int16\n",
      "bitpix          : 16\n",
      "slice_start     : 0\n",
      "pixdim          : [-1.        0.9375    0.9375    1.199997  0.        0.        0.\n",
      "  0.      ]\n",
      "vox_offset      : 0.0\n",
      "scl_slope       : nan\n",
      "scl_inter       : nan\n",
      "slice_end       : 0\n",
      "slice_code      : unknown\n",
      "xyzt_units      : 10\n",
      "cal_max         : 0.0\n",
      "cal_min         : 0.0\n",
      "slice_duration  : 0.0\n",
      "toffset         : 0.0\n",
      "glmax           : 0\n",
      "glmin           : 0\n",
      "descrip         : b'MR'\n",
      "aux_file        : b''\n",
      "qform_code      : scanner\n",
      "sform_code      : scanner\n",
      "quatern_b       : 0.468175\n",
      "quatern_c       : -0.5299171\n",
      "quatern_d       : -0.468175\n",
      "qoffset_x       : -88.63989\n",
      "qoffset_y       : 116.532005\n",
      "qoffset_z       : -112.113556\n",
      "srow_x          : [  0.         0.         1.199997 -88.63989 ]\n",
      "srow_y          : [-9.30352330e-01  1.15545668e-01  0.00000000e+00  1.16532005e+02]\n",
      "srow_z          : [ 1.15545668e-01  9.30352330e-01 -2.49799545e-16 -1.12113556e+02]\n",
      "intent_name     : b''\n",
      "magic           : b'n+1'\n"
     ]
    }
   ],
   "source": [
    "h = vol.header\n",
    "print(h)"
   ],
   "metadata": {
    "collapsed": false,
    "pycharm": {
     "name": "#%%\n"
    }
   }
  },
  {
   "cell_type": "code",
   "execution_count": 19,
   "outputs": [
    {
     "name": "stdout",
     "output_type": "stream",
     "text": [
      "Shape: (256, 256, 150)\n",
      "Voxel sizes in millimeters:  (0.9375, 0.9375, 1.199997)\n",
      "Type:  int16\n"
     ]
    }
   ],
   "source": [
    "print('Shape:', h.get_data_shape())\n",
    "print('Voxel sizes in millimeters: ', h.get_zooms())\n",
    "print('Type: ',h.get_data_dtype())"
   ],
   "metadata": {
    "collapsed": false,
    "pycharm": {
     "name": "#%%\n"
    }
   }
  },
  {
   "cell_type": "markdown",
   "source": [
    "## Convert from NIfTI to Numpy Array"
   ],
   "metadata": {
    "collapsed": false,
    "pycharm": {
     "name": "#%% md\n"
    }
   }
  },
  {
   "cell_type": "code",
   "execution_count": 20,
   "outputs": [
    {
     "data": {
      "text/plain": "(numpy.ndarray, dtype('float64'), (256, 256, 150))"
     },
     "execution_count": 20,
     "metadata": {},
     "output_type": "execute_result"
    }
   ],
   "source": [
    "# using get_fdata() to convert to ndarray with float64\n",
    "vol_array = vol.get_fdata()\n",
    "type(vol_array), vol_array.dtype, vol_array.shape"
   ],
   "metadata": {
    "collapsed": false,
    "pycharm": {
     "name": "#%%\n"
    }
   }
  },
  {
   "cell_type": "markdown",
   "source": [
    "## Slicing"
   ],
   "metadata": {
    "collapsed": false,
    "pycharm": {
     "name": "#%% md\n"
    }
   }
  },
  {
   "cell_type": "code",
   "execution_count": 21,
   "outputs": [
    {
     "data": {
      "text/plain": "(numpy.ndarray, dtype('float64'), (256, 256, 90))"
     },
     "execution_count": 21,
     "metadata": {},
     "output_type": "execute_result"
    }
   ],
   "source": [
    "vol_cropped_array = vol.slicer[:, :, 30: 120].get_fdata()\n",
    "type(vol_cropped_array), vol_cropped_array.dtype, vol_cropped_array.shape"
   ],
   "metadata": {
    "collapsed": false,
    "pycharm": {
     "name": "#%%\n"
    }
   }
  },
  {
   "cell_type": "markdown",
   "source": [
    "## Inspect all images sizes"
   ],
   "metadata": {
    "collapsed": false,
    "pycharm": {
     "name": "#%% md\n"
    }
   }
  },
  {
   "cell_type": "code",
   "execution_count": null,
   "outputs": [],
   "source": [
    "dict_size = {}\n",
    "dict_size[0] = {}\n",
    "dict_size[1] = {}\n",
    "dict_size[2] = {}\n",
    "\n",
    "dict_voxel_size = {}\n",
    "dict_voxel_size[0] = {}\n",
    "dict_voxel_size[1] = {}\n",
    "dict_voxel_size[2] = {}\n",
    "\n",
    "for file in files:\n",
    "    act_vol = nib.load(file)\n",
    "\n",
    "    sh = act_vol.get_fdata().shape\n",
    "    dict_size[0][sh[0]] = 1 + dict_size[0].get(sh[0], 0)\n",
    "    dict_size[1][sh[1]] = 1 + dict_size[1].get(sh[1], 0)\n",
    "    dict_size[2][sh[2]] = 1 + dict_size[2].get(sh[2], 0)\n",
    "\n",
    "    vx_size = act_vol.header.get_zooms()\n",
    "    dict_voxel_size[0][vx_size[0]] = 1 + dict_voxel_size[0].get(vx_size[0], 0)\n",
    "    dict_voxel_size[1][vx_size[1]] = 1 + dict_voxel_size[1].get(vx_size[1], 0)\n",
    "    dict_voxel_size[2][vx_size[2]] = 1 + dict_voxel_size[2].get(vx_size[2], 0)\n",
    "\n",
    "dict_size"
   ],
   "metadata": {
    "collapsed": false,
    "pycharm": {
     "name": "#%%\n",
     "is_executing": true
    }
   }
  },
  {
   "cell_type": "code",
   "execution_count": null,
   "outputs": [],
   "source": [
    "labels = list(dict_size[2].keys())\n",
    "sizes = list(dict_size[2].values())\n",
    "\n",
    "patches, texts = plt.pie(sizes, startangle=90)\n",
    "plt.legend(patches, labels, loc=\"best\")\n",
    "plt.title('Pie chart for values of 3rd dimension')\n",
    "plt.axis('equal')\n",
    "plt.tight_layout()\n",
    "plt.show()"
   ],
   "metadata": {
    "collapsed": false,
    "pycharm": {
     "name": "#%%\n",
     "is_executing": true
    }
   }
  },
  {
   "cell_type": "markdown",
   "source": [
    "## Show 2D slice from volumes"
   ],
   "metadata": {
    "collapsed": false,
    "pycharm": {
     "name": "#%% md\n"
    }
   }
  },
  {
   "cell_type": "code",
   "execution_count": null,
   "outputs": [],
   "source": [
    "def draw_volume(volume=vol, percentage=0.5):\n",
    "    plt.figure(figsize=[15, 15])\n",
    "\n",
    "    if isinstance(volume, str):\n",
    "        volume = nib.load(volume)\n",
    "\n",
    "    i_x = int(np.floor(volume.shape[0] * percentage))\n",
    "    i_y = int(np.floor(volume.shape[1] * percentage))\n",
    "    i_z = int(np.floor(volume.shape[2] * percentage))\n",
    "\n",
    "    slice_x = np.squeeze(volume.slicer[i_x:i_x+1,:,:].get_fdata())\n",
    "    slice_y = np.squeeze(volume.slicer[:,i_y:i_y+1,:].get_fdata())\n",
    "    slice_z = np.squeeze(volume.slicer[:,:,i_z:i_z+1].get_fdata())\n",
    "\n",
    "    plt.subplot(131)\n",
    "    plt.imshow(slice_x, cmap='gray')\n",
    "    plt.title('X_Slice: {}/{}'.format(i_x, volume.shape[0]))\n",
    "\n",
    "    plt.subplot(132)\n",
    "    plt.imshow(slice_y, cmap='gray')\n",
    "    plt.title('Y_Slice: {}/{}'.format(i_y, volume.shape[1]))\n",
    "\n",
    "    plt.subplot(133)\n",
    "    plt.imshow(slice_z, cmap='gray')\n",
    "    plt.title('Z_Slice: {}/{}'.format(i_z, volume.shape[2]))\n",
    "\n",
    "    plt.show()\n",
    "\n",
    "draw_volume(files[0],0.1)\n",
    "draw_volume(files[0],0.5)"
   ],
   "metadata": {
    "collapsed": false,
    "pycharm": {
     "name": "#%%\n",
     "is_executing": true
    }
   }
  },
  {
   "cell_type": "code",
   "execution_count": null,
   "outputs": [],
   "source": [
    "from ipywidgets import interact_manual , FloatSlider\n",
    "\n",
    "interact_manual(draw_volume,\n",
    "         volume = files,\n",
    "         percentage = FloatSlider(min=0, max=0.999, step=0.005),\n",
    "        );\n",
    "\n",
    "def show_animation(train=True):\n",
    "    images = nib.load(files[0]).get_fdata()\n",
    "    images = np.moveaxis(images, 2,0)\n",
    "    fig = plt.figure()\n",
    "    ims = list()\n",
    "    for image in images:\n",
    "        img = plt.imshow(image,cmap='gray',animated=True)\n",
    "        plt.axis('off')\n",
    "        ims.append([img])\n",
    "    ani = animation.ArtistAnimation(fig,ims,interval=100,blit=False,repeat_delay=1000)\n",
    "    return ani\n",
    "\n",
    "ani = show_animation()"
   ],
   "metadata": {
    "collapsed": false,
    "pycharm": {
     "name": "#%%\n",
     "is_executing": true
    }
   }
  },
  {
   "cell_type": "code",
   "execution_count": null,
   "outputs": [],
   "source": [
    "HTML(ani.to_jshtml())"
   ],
   "metadata": {
    "collapsed": false,
    "pycharm": {
     "name": "#%%\n",
     "is_executing": true
    }
   }
  }
 ],
 "metadata": {
  "kernelspec": {
   "display_name": "Python 3",
   "language": "python",
   "name": "python3"
  },
  "language_info": {
   "codemirror_mode": {
    "name": "ipython",
    "version": 2
   },
   "file_extension": ".py",
   "mimetype": "text/x-python",
   "name": "python",
   "nbconvert_exporter": "python",
   "pygments_lexer": "ipython2",
   "version": "2.7.6"
  }
 },
 "nbformat": 4,
 "nbformat_minor": 0
}